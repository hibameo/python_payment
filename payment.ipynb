{
  "nbformat": 4,
  "nbformat_minor": 0,
  "metadata": {
    "colab": {
      "provenance": [],
      "authorship_tag": "ABX9TyP5aKziQir7vuwHYGtUwaOW",
      "include_colab_link": true
    },
    "kernelspec": {
      "name": "python3",
      "display_name": "Python 3"
    },
    "language_info": {
      "name": "python"
    }
  },
  "cells": [
    {
      "cell_type": "markdown",
      "metadata": {
        "id": "view-in-github",
        "colab_type": "text"
      },
      "source": [
        "<a href=\"https://colab.research.google.com/github/hibameo/python_payment/blob/main/payment.ipynb\" target=\"_parent\"><img src=\"https://colab.research.google.com/assets/colab-badge.svg\" alt=\"Open In Colab\"/></a>"
      ]
    },
    {
      "cell_type": "code",
      "execution_count": 1,
      "metadata": {
        "colab": {
          "base_uri": "https://localhost:8080/"
        },
        "id": "vG1qgFiwc0FP",
        "outputId": "a9771144-94aa-4253-da84-124d27d3ac8a"
      },
      "outputs": [
        {
          "output_type": "stream",
          "name": "stdout",
          "text": [
            "Welcome to Hiba's Restaurant!\n",
            "Menu:\n",
            "Pizza: 500 PKR\n",
            "Pasta: 300 PKR\n",
            "Burger: 350 PKR\n",
            "Coffee: 200 PKR\n",
            "Tea: 150 PKR\n",
            "\n",
            "Enter the name of the item you want to order: tea\n",
            "Item 'tea' added to your order.\n",
            "Do you want to add another item? (Yes/No): no\n",
            "\n",
            "Finalizing your order...\n",
            "Ordered items: tea\n",
            "Total bill: 150 PKR\n",
            "Payment successful! Remaining wallet balance: 1850 PKR\n"
          ]
        }
      ],
      "source": [
        "\n",
        "# Menu\n",
        "menu = {\n",
        "    \"pizza\": 500,\n",
        "    \"pasta\": 300,\n",
        "    \"burger\": 350,\n",
        "    \"coffee\": 200,\n",
        "    \"tea\": 150,\n",
        "}\n",
        "\n",
        "# Greet\n",
        "print(\"Welcome to Hiba's Restaurant!\")\n",
        "print(\"Menu:\")\n",
        "for item, price in menu.items():\n",
        "    print(f\"{item.capitalize()}: {price} PKR\")\n",
        "\n",
        "# Wallet balance simulation\n",
        "wallet_balance = 2000  # Initial amount to \"pay\"\n",
        "\n",
        "order_total = 0\n",
        "ordered_items = []\n",
        "\n",
        "# Function to take orders\n",
        "def take_order():\n",
        "    global order_total\n",
        "    item = input(\"\\nEnter the name of the item you want to order: \").strip().lower()\n",
        "\n",
        "    if item in menu:\n",
        "        order_total += menu[item]\n",
        "        ordered_items.append(item)\n",
        "        print(f\"Item '{item}' added to your order.\")\n",
        "    else:\n",
        "        print(f\"Sorry, '{item}' is not available.\")\n",
        "\n",
        "while True:\n",
        "    take_order()\n",
        "    another_item = input(\"Do you want to add another item? (Yes/No): \").strip().lower()\n",
        "    if another_item != \"yes\":\n",
        "        break\n",
        "\n",
        "# Payment simulation\n",
        "print(\"\\nFinalizing your order...\")\n",
        "print(f\"Ordered items: {', '.join(ordered_items)}\")\n",
        "print(f\"Total bill: {order_total} PKR\")\n",
        "\n",
        "if wallet_balance >= order_total:\n",
        "    wallet_balance -= order_total\n",
        "    print(f\"Payment successful! Remaining wallet balance: {wallet_balance} PKR\")\n",
        "else:\n",
        "    print(\"Insufficient balance. Please recharge your wallet.\")"
      ]
    }
  ]
}